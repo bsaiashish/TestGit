{
  "nbformat": 4,
  "nbformat_minor": 0,
  "metadata": {
    "colab": {
      "name": "saiaudioproj.ipynb",
      "version": "0.3.2",
      "provenance": [],
      "collapsed_sections": [],
      "include_colab_link": true
    },
    "kernelspec": {
      "name": "python3",
      "display_name": "Python 3"
    },
    "accelerator": "GPU"
  },
  "cells": [
    {
      "cell_type": "markdown",
      "metadata": {
        "id": "view-in-github",
        "colab_type": "text"
      },
      "source": [
        "<a href=\"https://colab.research.google.com/github/bsaiashish/TestGit/blob/master/saiaudioproj.ipynb\" target=\"_parent\"><img src=\"https://colab.research.google.com/assets/colab-badge.svg\" alt=\"Open In Colab\"/></a>"
      ]
    },
    {
      "metadata": {
        "id": "kjM7biQyA1__",
        "colab_type": "code",
        "colab": {
          "base_uri": "https://localhost:8080/",
          "height": 122
        },
        "outputId": "8d74f8bd-a05f-41ae-ce9a-c98b8860edea"
      },
      "cell_type": "code",
      "source": [
        "! git clone https://github.com/bsaiashish/audioproj2.git"
      ],
      "execution_count": 2,
      "outputs": [
        {
          "output_type": "stream",
          "text": [
            "Cloning into 'audioproj2'...\n",
            "remote: Enumerating objects: 356, done.\u001b[K\n",
            "remote: Total 356 (delta 0), reused 0 (delta 0), pack-reused 356\u001b[K\n",
            "Receiving objects: 100% (356/356), 94.17 MiB | 23.19 MiB/s, done.\n",
            "Resolving deltas: 100% (30/30), done.\n",
            "Checking out files: 100% (306/306), done.\n"
          ],
          "name": "stdout"
        }
      ]
    },
    {
      "metadata": {
        "id": "1QovONFxBCac",
        "colab_type": "code",
        "colab": {
          "base_uri": "https://localhost:8080/",
          "height": 34
        },
        "outputId": "41d600b2-e1a1-44ef-a297-d7287468df3a"
      },
      "cell_type": "code",
      "source": [
        "ls"
      ],
      "execution_count": 3,
      "outputs": [
        {
          "output_type": "stream",
          "text": [
            "\u001b[0m\u001b[01;34maudioproj2\u001b[0m/  \u001b[01;34msample_data\u001b[0m/\n"
          ],
          "name": "stdout"
        }
      ]
    },
    {
      "metadata": {
        "id": "3E4GOX8ajhVR",
        "colab_type": "code",
        "colab": {
          "base_uri": "https://localhost:8080/",
          "height": 34
        },
        "outputId": "c6fda79c-160a-439c-8284-233f3a176445"
      },
      "cell_type": "code",
      "source": [
        "cd audioproj2"
      ],
      "execution_count": 4,
      "outputs": [
        {
          "output_type": "stream",
          "text": [
            "/content/audioproj2\n"
          ],
          "name": "stdout"
        }
      ]
    },
    {
      "metadata": {
        "id": "vwYAjXxhBP0n",
        "colab_type": "code",
        "colab": {
          "base_uri": "https://localhost:8080/",
          "height": 158
        },
        "outputId": "e690133f-2d9d-4668-e9f4-ac4189c0bd43"
      },
      "cell_type": "code",
      "source": [
        "! pip install python_speech_features"
      ],
      "execution_count": 5,
      "outputs": [
        {
          "output_type": "stream",
          "text": [
            "Collecting python_speech_features\n",
            "  Downloading https://files.pythonhosted.org/packages/ff/d1/94c59e20a2631985fbd2124c45177abaa9e0a4eee8ba8a305aa26fc02a8e/python_speech_features-0.6.tar.gz\n",
            "Building wheels for collected packages: python-speech-features\n",
            "  Building wheel for python-speech-features (setup.py) ... \u001b[?25ldone\n",
            "\u001b[?25h  Stored in directory: /root/.cache/pip/wheels/3c/42/7c/f60e9d1b40015cd69b213ad90f7c18a9264cd745b9888134be\n",
            "Successfully built python-speech-features\n",
            "Installing collected packages: python-speech-features\n",
            "Successfully installed python-speech-features-0.6\n"
          ],
          "name": "stdout"
        }
      ]
    },
    {
      "metadata": {
        "id": "dKev7m_TBRJR",
        "colab_type": "code",
        "colab": {}
      },
      "cell_type": "code",
      "source": [
        "import os\n",
        "from tqdm import tqdm\n",
        "import pandas as pd\n",
        "import numpy as np\n",
        "import matplotlib.pyplot as plt\n",
        "from scipy.io import wavfile\n",
        "from python_speech_features import mfcc, logfbank\n",
        "\n",
        "def plot_signals(signals):\n",
        "    fig, axes = plt.subplots(nrows=2, ncols=5, sharex=False,\n",
        "                             sharey=True, figsize=(20,5))\n",
        "    fig.suptitle('Time Series', size=16)\n",
        "    i = 0\n",
        "    for x in range(2):\n",
        "        for y in range(5):\n",
        "            axes[x,y].set_title(list(signals.keys())[i])\n",
        "            axes[x,y].plot(list(signals.values())[i])\n",
        "            axes[x,y].get_xaxis().set_visible(False)\n",
        "            axes[x,y].get_yaxis().set_visible(False)\n",
        "            i += 1\n",
        "\n",
        "def plot_fft(fft):\n",
        "    fig, axes = plt.subplots(nrows=2, ncols=5, sharex=False,\n",
        "                             sharey=True, figsize=(20,5))\n",
        "    fig.suptitle('Fourier Transforms', size=16)\n",
        "    i = 0\n",
        "    for x in range(2):\n",
        "        for y in range(5):\n",
        "            data = list(fft.values())[i]\n",
        "            Y, freq = data[0], data[1]\n",
        "            axes[x,y].set_title(list(fft.keys())[i])\n",
        "            axes[x,y].plot(freq, Y)\n",
        "            axes[x,y].get_xaxis().set_visible(False)\n",
        "            axes[x,y].get_yaxis().set_visible(False)\n",
        "            i += 1\n",
        "\n",
        "def plot_fbank(fbank):\n",
        "    fig, axes = plt.subplots(nrows=2, ncols=5, sharex=False,\n",
        "                             sharey=True, figsize=(20,5))\n",
        "    fig.suptitle('Filter Bank Coefficients', size=16)\n",
        "    i = 0\n",
        "    for x in range(2):\n",
        "        for y in range(5):\n",
        "            axes[x,y].set_title(list(fbank.keys())[i])\n",
        "            axes[x,y].imshow(list(fbank.values())[i],\n",
        "                    cmap='hot', interpolation='nearest')\n",
        "            axes[x,y].get_xaxis().set_visible(False)\n",
        "            axes[x,y].get_yaxis().set_visible(False)\n",
        "            i += 1\n",
        "\n",
        "def plot_mfccs(mfccs):\n",
        "    fig, axes = plt.subplots(nrows=2, ncols=5, sharex=False,\n",
        "                             sharey=True, figsize=(20,5))\n",
        "    fig.suptitle('Mel Frequency Cepstrum Coefficients', size=16)\n",
        "    i = 0\n",
        "    for x in range(2):\n",
        "        for y in range(5):\n",
        "            axes[x,y].set_title(list(mfccs.keys())[i])\n",
        "            axes[x,y].imshow(list(mfccs.values())[i],\n",
        "                    cmap='hot', interpolation='nearest')\n",
        "            axes[x,y].get_xaxis().set_visible(False)\n",
        "            axes[x,y].get_yaxis().set_visible(False)\n",
        "            i += 1\n",
        "            \n",
        "            \n",
        "    \n",
        "\n"
      ],
      "execution_count": 0,
      "outputs": []
    },
    {
      "metadata": {
        "id": "Vav486AGoNDU",
        "colab_type": "code",
        "colab": {}
      },
      "cell_type": "code",
      "source": [
        "def envelope(y, rate, threshold):\n",
        "  mask = []\n",
        "  y = pd.Series(y).apply(np.abs)\n",
        "  y_mean = y.rolling(window=int(rate/10), min_periods=1, center = True).mean()\n",
        "  for mean in y_mean:\n",
        "    if mean>threshold:\n",
        "      mask.append(True)\n",
        "    else:\n",
        "      mask.append(False)\n",
        "      \n",
        "  return mask    "
      ],
      "execution_count": 0,
      "outputs": []
    },
    {
      "metadata": {
        "id": "c5fW9bzeRl6s",
        "colab_type": "code",
        "colab": {}
      },
      "cell_type": "code",
      "source": [
        "def calc_fft(y, rate):\n",
        "  n = len(y)\n",
        "  freq = np.fft.rfftfreq(n, d=1/rate)\n",
        "  Y = abs(np.fft.rfft(y)/n)\n",
        "  return(Y,freq)"
      ],
      "execution_count": 0,
      "outputs": []
    },
    {
      "metadata": {
        "id": "xem9o20IBUN4",
        "colab_type": "code",
        "colab": {}
      },
      "cell_type": "code",
      "source": [
        "df = pd.read_csv('instruments.csv')"
      ],
      "execution_count": 0,
      "outputs": []
    },
    {
      "metadata": {
        "id": "tkPnl9t2BXEC",
        "colab_type": "code",
        "colab": {
          "base_uri": "https://localhost:8080/",
          "height": 34
        },
        "outputId": "86daae73-614a-483a-ded1-5d8605165c23"
      },
      "cell_type": "code",
      "source": [
        "pwd"
      ],
      "execution_count": 10,
      "outputs": [
        {
          "output_type": "execute_result",
          "data": {
            "text/plain": [
              "'/content/audioproj2'"
            ]
          },
          "metadata": {
            "tags": []
          },
          "execution_count": 10
        }
      ]
    },
    {
      "metadata": {
        "id": "mQy9OEtUBcul",
        "colab_type": "code",
        "colab": {
          "base_uri": "https://localhost:8080/",
          "height": 1882
        },
        "outputId": "31c6c9fd-2cb3-477a-820b-e7a1c508a3b9"
      },
      "cell_type": "code",
      "source": [
        "df"
      ],
      "execution_count": 11,
      "outputs": [
        {
          "output_type": "execute_result",
          "data": {
            "text/html": [
              "<div>\n",
              "<style scoped>\n",
              "    .dataframe tbody tr th:only-of-type {\n",
              "        vertical-align: middle;\n",
              "    }\n",
              "\n",
              "    .dataframe tbody tr th {\n",
              "        vertical-align: top;\n",
              "    }\n",
              "\n",
              "    .dataframe thead th {\n",
              "        text-align: right;\n",
              "    }\n",
              "</style>\n",
              "<table border=\"1\" class=\"dataframe\">\n",
              "  <thead>\n",
              "    <tr style=\"text-align: right;\">\n",
              "      <th></th>\n",
              "      <th>fname</th>\n",
              "      <th>label</th>\n",
              "    </tr>\n",
              "  </thead>\n",
              "  <tbody>\n",
              "    <tr>\n",
              "      <th>0</th>\n",
              "      <td>5388d14d.wav</td>\n",
              "      <td>Saxophone</td>\n",
              "    </tr>\n",
              "    <tr>\n",
              "      <th>1</th>\n",
              "      <td>c685f05f.wav</td>\n",
              "      <td>Saxophone</td>\n",
              "    </tr>\n",
              "    <tr>\n",
              "      <th>2</th>\n",
              "      <td>36d20ab5.wav</td>\n",
              "      <td>Saxophone</td>\n",
              "    </tr>\n",
              "    <tr>\n",
              "      <th>3</th>\n",
              "      <td>d6665734.wav</td>\n",
              "      <td>Saxophone</td>\n",
              "    </tr>\n",
              "    <tr>\n",
              "      <th>4</th>\n",
              "      <td>7352e28f.wav</td>\n",
              "      <td>Saxophone</td>\n",
              "    </tr>\n",
              "    <tr>\n",
              "      <th>5</th>\n",
              "      <td>8fa096bf.wav</td>\n",
              "      <td>Saxophone</td>\n",
              "    </tr>\n",
              "    <tr>\n",
              "      <th>6</th>\n",
              "      <td>2f9c5f62.wav</td>\n",
              "      <td>Saxophone</td>\n",
              "    </tr>\n",
              "    <tr>\n",
              "      <th>7</th>\n",
              "      <td>9cd05a2b.wav</td>\n",
              "      <td>Saxophone</td>\n",
              "    </tr>\n",
              "    <tr>\n",
              "      <th>8</th>\n",
              "      <td>ab465bf9.wav</td>\n",
              "      <td>Saxophone</td>\n",
              "    </tr>\n",
              "    <tr>\n",
              "      <th>9</th>\n",
              "      <td>c40632d7.wav</td>\n",
              "      <td>Saxophone</td>\n",
              "    </tr>\n",
              "    <tr>\n",
              "      <th>10</th>\n",
              "      <td>3a80061f.wav</td>\n",
              "      <td>Saxophone</td>\n",
              "    </tr>\n",
              "    <tr>\n",
              "      <th>11</th>\n",
              "      <td>dba6817d.wav</td>\n",
              "      <td>Saxophone</td>\n",
              "    </tr>\n",
              "    <tr>\n",
              "      <th>12</th>\n",
              "      <td>25f26095.wav</td>\n",
              "      <td>Saxophone</td>\n",
              "    </tr>\n",
              "    <tr>\n",
              "      <th>13</th>\n",
              "      <td>37cebbd4.wav</td>\n",
              "      <td>Saxophone</td>\n",
              "    </tr>\n",
              "    <tr>\n",
              "      <th>14</th>\n",
              "      <td>f8d96888.wav</td>\n",
              "      <td>Saxophone</td>\n",
              "    </tr>\n",
              "    <tr>\n",
              "      <th>15</th>\n",
              "      <td>d94c94f0.wav</td>\n",
              "      <td>Saxophone</td>\n",
              "    </tr>\n",
              "    <tr>\n",
              "      <th>16</th>\n",
              "      <td>ec6afeb6.wav</td>\n",
              "      <td>Saxophone</td>\n",
              "    </tr>\n",
              "    <tr>\n",
              "      <th>17</th>\n",
              "      <td>5f0dc8e4.wav</td>\n",
              "      <td>Saxophone</td>\n",
              "    </tr>\n",
              "    <tr>\n",
              "      <th>18</th>\n",
              "      <td>b8c0a88a.wav</td>\n",
              "      <td>Saxophone</td>\n",
              "    </tr>\n",
              "    <tr>\n",
              "      <th>19</th>\n",
              "      <td>96dad435.wav</td>\n",
              "      <td>Saxophone</td>\n",
              "    </tr>\n",
              "    <tr>\n",
              "      <th>20</th>\n",
              "      <td>b120dc90.wav</td>\n",
              "      <td>Saxophone</td>\n",
              "    </tr>\n",
              "    <tr>\n",
              "      <th>21</th>\n",
              "      <td>c1948f24.wav</td>\n",
              "      <td>Saxophone</td>\n",
              "    </tr>\n",
              "    <tr>\n",
              "      <th>22</th>\n",
              "      <td>ac097834.wav</td>\n",
              "      <td>Saxophone</td>\n",
              "    </tr>\n",
              "    <tr>\n",
              "      <th>23</th>\n",
              "      <td>4345851e.wav</td>\n",
              "      <td>Saxophone</td>\n",
              "    </tr>\n",
              "    <tr>\n",
              "      <th>24</th>\n",
              "      <td>5d4f8187.wav</td>\n",
              "      <td>Saxophone</td>\n",
              "    </tr>\n",
              "    <tr>\n",
              "      <th>25</th>\n",
              "      <td>b83049f4.wav</td>\n",
              "      <td>Saxophone</td>\n",
              "    </tr>\n",
              "    <tr>\n",
              "      <th>26</th>\n",
              "      <td>c1c3c8b9.wav</td>\n",
              "      <td>Saxophone</td>\n",
              "    </tr>\n",
              "    <tr>\n",
              "      <th>27</th>\n",
              "      <td>78a86075.wav</td>\n",
              "      <td>Saxophone</td>\n",
              "    </tr>\n",
              "    <tr>\n",
              "      <th>28</th>\n",
              "      <td>f0d315bc.wav</td>\n",
              "      <td>Saxophone</td>\n",
              "    </tr>\n",
              "    <tr>\n",
              "      <th>29</th>\n",
              "      <td>9c0838c1.wav</td>\n",
              "      <td>Saxophone</td>\n",
              "    </tr>\n",
              "    <tr>\n",
              "      <th>...</th>\n",
              "      <td>...</td>\n",
              "      <td>...</td>\n",
              "    </tr>\n",
              "    <tr>\n",
              "      <th>270</th>\n",
              "      <td>a64a3740.wav</td>\n",
              "      <td>Clarinet</td>\n",
              "    </tr>\n",
              "    <tr>\n",
              "      <th>271</th>\n",
              "      <td>ad7ec8cb.wav</td>\n",
              "      <td>Clarinet</td>\n",
              "    </tr>\n",
              "    <tr>\n",
              "      <th>272</th>\n",
              "      <td>8ee44fb5.wav</td>\n",
              "      <td>Clarinet</td>\n",
              "    </tr>\n",
              "    <tr>\n",
              "      <th>273</th>\n",
              "      <td>7eb959ec.wav</td>\n",
              "      <td>Clarinet</td>\n",
              "    </tr>\n",
              "    <tr>\n",
              "      <th>274</th>\n",
              "      <td>e51e1770.wav</td>\n",
              "      <td>Clarinet</td>\n",
              "    </tr>\n",
              "    <tr>\n",
              "      <th>275</th>\n",
              "      <td>3f7e6da8.wav</td>\n",
              "      <td>Clarinet</td>\n",
              "    </tr>\n",
              "    <tr>\n",
              "      <th>276</th>\n",
              "      <td>3cbe9902.wav</td>\n",
              "      <td>Clarinet</td>\n",
              "    </tr>\n",
              "    <tr>\n",
              "      <th>277</th>\n",
              "      <td>9a722e53.wav</td>\n",
              "      <td>Clarinet</td>\n",
              "    </tr>\n",
              "    <tr>\n",
              "      <th>278</th>\n",
              "      <td>19105b8a.wav</td>\n",
              "      <td>Clarinet</td>\n",
              "    </tr>\n",
              "    <tr>\n",
              "      <th>279</th>\n",
              "      <td>1f81cc2b.wav</td>\n",
              "      <td>Clarinet</td>\n",
              "    </tr>\n",
              "    <tr>\n",
              "      <th>280</th>\n",
              "      <td>44c5094c.wav</td>\n",
              "      <td>Clarinet</td>\n",
              "    </tr>\n",
              "    <tr>\n",
              "      <th>281</th>\n",
              "      <td>5506629f.wav</td>\n",
              "      <td>Clarinet</td>\n",
              "    </tr>\n",
              "    <tr>\n",
              "      <th>282</th>\n",
              "      <td>ddf23920.wav</td>\n",
              "      <td>Clarinet</td>\n",
              "    </tr>\n",
              "    <tr>\n",
              "      <th>283</th>\n",
              "      <td>2e1cd085.wav</td>\n",
              "      <td>Clarinet</td>\n",
              "    </tr>\n",
              "    <tr>\n",
              "      <th>284</th>\n",
              "      <td>dc981a38.wav</td>\n",
              "      <td>Clarinet</td>\n",
              "    </tr>\n",
              "    <tr>\n",
              "      <th>285</th>\n",
              "      <td>a053797b.wav</td>\n",
              "      <td>Clarinet</td>\n",
              "    </tr>\n",
              "    <tr>\n",
              "      <th>286</th>\n",
              "      <td>f2310f0d.wav</td>\n",
              "      <td>Clarinet</td>\n",
              "    </tr>\n",
              "    <tr>\n",
              "      <th>287</th>\n",
              "      <td>ce65d6b5.wav</td>\n",
              "      <td>Clarinet</td>\n",
              "    </tr>\n",
              "    <tr>\n",
              "      <th>288</th>\n",
              "      <td>45de3233.wav</td>\n",
              "      <td>Clarinet</td>\n",
              "    </tr>\n",
              "    <tr>\n",
              "      <th>289</th>\n",
              "      <td>8916ffcd.wav</td>\n",
              "      <td>Clarinet</td>\n",
              "    </tr>\n",
              "    <tr>\n",
              "      <th>290</th>\n",
              "      <td>e43f7db2.wav</td>\n",
              "      <td>Clarinet</td>\n",
              "    </tr>\n",
              "    <tr>\n",
              "      <th>291</th>\n",
              "      <td>3c66098d.wav</td>\n",
              "      <td>Clarinet</td>\n",
              "    </tr>\n",
              "    <tr>\n",
              "      <th>292</th>\n",
              "      <td>ad42e493.wav</td>\n",
              "      <td>Clarinet</td>\n",
              "    </tr>\n",
              "    <tr>\n",
              "      <th>293</th>\n",
              "      <td>740e5bb7.wav</td>\n",
              "      <td>Clarinet</td>\n",
              "    </tr>\n",
              "    <tr>\n",
              "      <th>294</th>\n",
              "      <td>800b401e.wav</td>\n",
              "      <td>Clarinet</td>\n",
              "    </tr>\n",
              "    <tr>\n",
              "      <th>295</th>\n",
              "      <td>3c713bcf.wav</td>\n",
              "      <td>Clarinet</td>\n",
              "    </tr>\n",
              "    <tr>\n",
              "      <th>296</th>\n",
              "      <td>2fc00271.wav</td>\n",
              "      <td>Clarinet</td>\n",
              "    </tr>\n",
              "    <tr>\n",
              "      <th>297</th>\n",
              "      <td>b0c06255.wav</td>\n",
              "      <td>Clarinet</td>\n",
              "    </tr>\n",
              "    <tr>\n",
              "      <th>298</th>\n",
              "      <td>71c6451f.wav</td>\n",
              "      <td>Clarinet</td>\n",
              "    </tr>\n",
              "    <tr>\n",
              "      <th>299</th>\n",
              "      <td>5de123c3.wav</td>\n",
              "      <td>Clarinet</td>\n",
              "    </tr>\n",
              "  </tbody>\n",
              "</table>\n",
              "<p>300 rows × 2 columns</p>\n",
              "</div>"
            ],
            "text/plain": [
              "            fname      label\n",
              "0    5388d14d.wav  Saxophone\n",
              "1    c685f05f.wav  Saxophone\n",
              "2    36d20ab5.wav  Saxophone\n",
              "3    d6665734.wav  Saxophone\n",
              "4    7352e28f.wav  Saxophone\n",
              "5    8fa096bf.wav  Saxophone\n",
              "6    2f9c5f62.wav  Saxophone\n",
              "7    9cd05a2b.wav  Saxophone\n",
              "8    ab465bf9.wav  Saxophone\n",
              "9    c40632d7.wav  Saxophone\n",
              "10   3a80061f.wav  Saxophone\n",
              "11   dba6817d.wav  Saxophone\n",
              "12   25f26095.wav  Saxophone\n",
              "13   37cebbd4.wav  Saxophone\n",
              "14   f8d96888.wav  Saxophone\n",
              "15   d94c94f0.wav  Saxophone\n",
              "16   ec6afeb6.wav  Saxophone\n",
              "17   5f0dc8e4.wav  Saxophone\n",
              "18   b8c0a88a.wav  Saxophone\n",
              "19   96dad435.wav  Saxophone\n",
              "20   b120dc90.wav  Saxophone\n",
              "21   c1948f24.wav  Saxophone\n",
              "22   ac097834.wav  Saxophone\n",
              "23   4345851e.wav  Saxophone\n",
              "24   5d4f8187.wav  Saxophone\n",
              "25   b83049f4.wav  Saxophone\n",
              "26   c1c3c8b9.wav  Saxophone\n",
              "27   78a86075.wav  Saxophone\n",
              "28   f0d315bc.wav  Saxophone\n",
              "29   9c0838c1.wav  Saxophone\n",
              "..            ...        ...\n",
              "270  a64a3740.wav   Clarinet\n",
              "271  ad7ec8cb.wav   Clarinet\n",
              "272  8ee44fb5.wav   Clarinet\n",
              "273  7eb959ec.wav   Clarinet\n",
              "274  e51e1770.wav   Clarinet\n",
              "275  3f7e6da8.wav   Clarinet\n",
              "276  3cbe9902.wav   Clarinet\n",
              "277  9a722e53.wav   Clarinet\n",
              "278  19105b8a.wav   Clarinet\n",
              "279  1f81cc2b.wav   Clarinet\n",
              "280  44c5094c.wav   Clarinet\n",
              "281  5506629f.wav   Clarinet\n",
              "282  ddf23920.wav   Clarinet\n",
              "283  2e1cd085.wav   Clarinet\n",
              "284  dc981a38.wav   Clarinet\n",
              "285  a053797b.wav   Clarinet\n",
              "286  f2310f0d.wav   Clarinet\n",
              "287  ce65d6b5.wav   Clarinet\n",
              "288  45de3233.wav   Clarinet\n",
              "289  8916ffcd.wav   Clarinet\n",
              "290  e43f7db2.wav   Clarinet\n",
              "291  3c66098d.wav   Clarinet\n",
              "292  ad42e493.wav   Clarinet\n",
              "293  740e5bb7.wav   Clarinet\n",
              "294  800b401e.wav   Clarinet\n",
              "295  3c713bcf.wav   Clarinet\n",
              "296  2fc00271.wav   Clarinet\n",
              "297  b0c06255.wav   Clarinet\n",
              "298  71c6451f.wav   Clarinet\n",
              "299  5de123c3.wav   Clarinet\n",
              "\n",
              "[300 rows x 2 columns]"
            ]
          },
          "metadata": {
            "tags": []
          },
          "execution_count": 11
        }
      ]
    },
    {
      "metadata": {
        "id": "4Jau70e7Be1D",
        "colab_type": "code",
        "colab": {}
      },
      "cell_type": "code",
      "source": [
        "df.set_index('fname', inplace=True)"
      ],
      "execution_count": 0,
      "outputs": []
    },
    {
      "metadata": {
        "id": "_sqo-CmzBhbN",
        "colab_type": "code",
        "colab": {}
      },
      "cell_type": "code",
      "source": [
        "for f in df.index:\n",
        "  rate, signal = wavfile.read('wavfile0/'+f)\n",
        "  df.at[f,'length'] = signal.shape[0]/rate"
      ],
      "execution_count": 0,
      "outputs": []
    },
    {
      "metadata": {
        "id": "52L__PCsBjku",
        "colab_type": "code",
        "colab": {
          "base_uri": "https://localhost:8080/",
          "height": 1911
        },
        "outputId": "4cf6f8d7-65d7-4679-b740-fe1a4610e50d"
      },
      "cell_type": "code",
      "source": [
        "df"
      ],
      "execution_count": 14,
      "outputs": [
        {
          "output_type": "execute_result",
          "data": {
            "text/html": [
              "<div>\n",
              "<style scoped>\n",
              "    .dataframe tbody tr th:only-of-type {\n",
              "        vertical-align: middle;\n",
              "    }\n",
              "\n",
              "    .dataframe tbody tr th {\n",
              "        vertical-align: top;\n",
              "    }\n",
              "\n",
              "    .dataframe thead th {\n",
              "        text-align: right;\n",
              "    }\n",
              "</style>\n",
              "<table border=\"1\" class=\"dataframe\">\n",
              "  <thead>\n",
              "    <tr style=\"text-align: right;\">\n",
              "      <th></th>\n",
              "      <th>label</th>\n",
              "      <th>length</th>\n",
              "    </tr>\n",
              "    <tr>\n",
              "      <th>fname</th>\n",
              "      <th></th>\n",
              "      <th></th>\n",
              "    </tr>\n",
              "  </thead>\n",
              "  <tbody>\n",
              "    <tr>\n",
              "      <th>5388d14d.wav</th>\n",
              "      <td>Saxophone</td>\n",
              "      <td>4.14</td>\n",
              "    </tr>\n",
              "    <tr>\n",
              "      <th>c685f05f.wav</th>\n",
              "      <td>Saxophone</td>\n",
              "      <td>1.54</td>\n",
              "    </tr>\n",
              "    <tr>\n",
              "      <th>36d20ab5.wav</th>\n",
              "      <td>Saxophone</td>\n",
              "      <td>4.90</td>\n",
              "    </tr>\n",
              "    <tr>\n",
              "      <th>d6665734.wav</th>\n",
              "      <td>Saxophone</td>\n",
              "      <td>10.50</td>\n",
              "    </tr>\n",
              "    <tr>\n",
              "      <th>7352e28f.wav</th>\n",
              "      <td>Saxophone</td>\n",
              "      <td>6.24</td>\n",
              "    </tr>\n",
              "    <tr>\n",
              "      <th>8fa096bf.wav</th>\n",
              "      <td>Saxophone</td>\n",
              "      <td>3.70</td>\n",
              "    </tr>\n",
              "    <tr>\n",
              "      <th>2f9c5f62.wav</th>\n",
              "      <td>Saxophone</td>\n",
              "      <td>5.00</td>\n",
              "    </tr>\n",
              "    <tr>\n",
              "      <th>9cd05a2b.wav</th>\n",
              "      <td>Saxophone</td>\n",
              "      <td>15.22</td>\n",
              "    </tr>\n",
              "    <tr>\n",
              "      <th>ab465bf9.wav</th>\n",
              "      <td>Saxophone</td>\n",
              "      <td>15.40</td>\n",
              "    </tr>\n",
              "    <tr>\n",
              "      <th>c40632d7.wav</th>\n",
              "      <td>Saxophone</td>\n",
              "      <td>11.30</td>\n",
              "    </tr>\n",
              "    <tr>\n",
              "      <th>3a80061f.wav</th>\n",
              "      <td>Saxophone</td>\n",
              "      <td>8.12</td>\n",
              "    </tr>\n",
              "    <tr>\n",
              "      <th>dba6817d.wav</th>\n",
              "      <td>Saxophone</td>\n",
              "      <td>4.34</td>\n",
              "    </tr>\n",
              "    <tr>\n",
              "      <th>25f26095.wav</th>\n",
              "      <td>Saxophone</td>\n",
              "      <td>2.04</td>\n",
              "    </tr>\n",
              "    <tr>\n",
              "      <th>37cebbd4.wav</th>\n",
              "      <td>Saxophone</td>\n",
              "      <td>6.16</td>\n",
              "    </tr>\n",
              "    <tr>\n",
              "      <th>f8d96888.wav</th>\n",
              "      <td>Saxophone</td>\n",
              "      <td>7.60</td>\n",
              "    </tr>\n",
              "    <tr>\n",
              "      <th>d94c94f0.wav</th>\n",
              "      <td>Saxophone</td>\n",
              "      <td>3.74</td>\n",
              "    </tr>\n",
              "    <tr>\n",
              "      <th>ec6afeb6.wav</th>\n",
              "      <td>Saxophone</td>\n",
              "      <td>11.88</td>\n",
              "    </tr>\n",
              "    <tr>\n",
              "      <th>5f0dc8e4.wav</th>\n",
              "      <td>Saxophone</td>\n",
              "      <td>5.00</td>\n",
              "    </tr>\n",
              "    <tr>\n",
              "      <th>b8c0a88a.wav</th>\n",
              "      <td>Saxophone</td>\n",
              "      <td>5.08</td>\n",
              "    </tr>\n",
              "    <tr>\n",
              "      <th>96dad435.wav</th>\n",
              "      <td>Saxophone</td>\n",
              "      <td>10.02</td>\n",
              "    </tr>\n",
              "    <tr>\n",
              "      <th>b120dc90.wav</th>\n",
              "      <td>Saxophone</td>\n",
              "      <td>3.74</td>\n",
              "    </tr>\n",
              "    <tr>\n",
              "      <th>c1948f24.wav</th>\n",
              "      <td>Saxophone</td>\n",
              "      <td>8.28</td>\n",
              "    </tr>\n",
              "    <tr>\n",
              "      <th>ac097834.wav</th>\n",
              "      <td>Saxophone</td>\n",
              "      <td>2.82</td>\n",
              "    </tr>\n",
              "    <tr>\n",
              "      <th>4345851e.wav</th>\n",
              "      <td>Saxophone</td>\n",
              "      <td>11.24</td>\n",
              "    </tr>\n",
              "    <tr>\n",
              "      <th>5d4f8187.wav</th>\n",
              "      <td>Saxophone</td>\n",
              "      <td>5.38</td>\n",
              "    </tr>\n",
              "    <tr>\n",
              "      <th>b83049f4.wav</th>\n",
              "      <td>Saxophone</td>\n",
              "      <td>6.66</td>\n",
              "    </tr>\n",
              "    <tr>\n",
              "      <th>c1c3c8b9.wav</th>\n",
              "      <td>Saxophone</td>\n",
              "      <td>13.58</td>\n",
              "    </tr>\n",
              "    <tr>\n",
              "      <th>78a86075.wav</th>\n",
              "      <td>Saxophone</td>\n",
              "      <td>5.90</td>\n",
              "    </tr>\n",
              "    <tr>\n",
              "      <th>f0d315bc.wav</th>\n",
              "      <td>Saxophone</td>\n",
              "      <td>4.42</td>\n",
              "    </tr>\n",
              "    <tr>\n",
              "      <th>9c0838c1.wav</th>\n",
              "      <td>Saxophone</td>\n",
              "      <td>9.78</td>\n",
              "    </tr>\n",
              "    <tr>\n",
              "      <th>...</th>\n",
              "      <td>...</td>\n",
              "      <td>...</td>\n",
              "    </tr>\n",
              "    <tr>\n",
              "      <th>a64a3740.wav</th>\n",
              "      <td>Clarinet</td>\n",
              "      <td>6.70</td>\n",
              "    </tr>\n",
              "    <tr>\n",
              "      <th>ad7ec8cb.wav</th>\n",
              "      <td>Clarinet</td>\n",
              "      <td>9.70</td>\n",
              "    </tr>\n",
              "    <tr>\n",
              "      <th>8ee44fb5.wav</th>\n",
              "      <td>Clarinet</td>\n",
              "      <td>3.94</td>\n",
              "    </tr>\n",
              "    <tr>\n",
              "      <th>7eb959ec.wav</th>\n",
              "      <td>Clarinet</td>\n",
              "      <td>8.52</td>\n",
              "    </tr>\n",
              "    <tr>\n",
              "      <th>e51e1770.wav</th>\n",
              "      <td>Clarinet</td>\n",
              "      <td>5.40</td>\n",
              "    </tr>\n",
              "    <tr>\n",
              "      <th>3f7e6da8.wav</th>\n",
              "      <td>Clarinet</td>\n",
              "      <td>5.84</td>\n",
              "    </tr>\n",
              "    <tr>\n",
              "      <th>3cbe9902.wav</th>\n",
              "      <td>Clarinet</td>\n",
              "      <td>7.00</td>\n",
              "    </tr>\n",
              "    <tr>\n",
              "      <th>9a722e53.wav</th>\n",
              "      <td>Clarinet</td>\n",
              "      <td>10.50</td>\n",
              "    </tr>\n",
              "    <tr>\n",
              "      <th>19105b8a.wav</th>\n",
              "      <td>Clarinet</td>\n",
              "      <td>4.82</td>\n",
              "    </tr>\n",
              "    <tr>\n",
              "      <th>1f81cc2b.wav</th>\n",
              "      <td>Clarinet</td>\n",
              "      <td>20.20</td>\n",
              "    </tr>\n",
              "    <tr>\n",
              "      <th>44c5094c.wav</th>\n",
              "      <td>Clarinet</td>\n",
              "      <td>3.94</td>\n",
              "    </tr>\n",
              "    <tr>\n",
              "      <th>5506629f.wav</th>\n",
              "      <td>Clarinet</td>\n",
              "      <td>2.48</td>\n",
              "    </tr>\n",
              "    <tr>\n",
              "      <th>ddf23920.wav</th>\n",
              "      <td>Clarinet</td>\n",
              "      <td>5.54</td>\n",
              "    </tr>\n",
              "    <tr>\n",
              "      <th>2e1cd085.wav</th>\n",
              "      <td>Clarinet</td>\n",
              "      <td>5.76</td>\n",
              "    </tr>\n",
              "    <tr>\n",
              "      <th>dc981a38.wav</th>\n",
              "      <td>Clarinet</td>\n",
              "      <td>6.82</td>\n",
              "    </tr>\n",
              "    <tr>\n",
              "      <th>a053797b.wav</th>\n",
              "      <td>Clarinet</td>\n",
              "      <td>5.46</td>\n",
              "    </tr>\n",
              "    <tr>\n",
              "      <th>f2310f0d.wav</th>\n",
              "      <td>Clarinet</td>\n",
              "      <td>12.50</td>\n",
              "    </tr>\n",
              "    <tr>\n",
              "      <th>ce65d6b5.wav</th>\n",
              "      <td>Clarinet</td>\n",
              "      <td>3.04</td>\n",
              "    </tr>\n",
              "    <tr>\n",
              "      <th>45de3233.wav</th>\n",
              "      <td>Clarinet</td>\n",
              "      <td>6.00</td>\n",
              "    </tr>\n",
              "    <tr>\n",
              "      <th>8916ffcd.wav</th>\n",
              "      <td>Clarinet</td>\n",
              "      <td>4.60</td>\n",
              "    </tr>\n",
              "    <tr>\n",
              "      <th>e43f7db2.wav</th>\n",
              "      <td>Clarinet</td>\n",
              "      <td>7.88</td>\n",
              "    </tr>\n",
              "    <tr>\n",
              "      <th>3c66098d.wav</th>\n",
              "      <td>Clarinet</td>\n",
              "      <td>5.38</td>\n",
              "    </tr>\n",
              "    <tr>\n",
              "      <th>ad42e493.wav</th>\n",
              "      <td>Clarinet</td>\n",
              "      <td>5.86</td>\n",
              "    </tr>\n",
              "    <tr>\n",
              "      <th>740e5bb7.wav</th>\n",
              "      <td>Clarinet</td>\n",
              "      <td>11.10</td>\n",
              "    </tr>\n",
              "    <tr>\n",
              "      <th>800b401e.wav</th>\n",
              "      <td>Clarinet</td>\n",
              "      <td>7.58</td>\n",
              "    </tr>\n",
              "    <tr>\n",
              "      <th>3c713bcf.wav</th>\n",
              "      <td>Clarinet</td>\n",
              "      <td>6.14</td>\n",
              "    </tr>\n",
              "    <tr>\n",
              "      <th>2fc00271.wav</th>\n",
              "      <td>Clarinet</td>\n",
              "      <td>4.20</td>\n",
              "    </tr>\n",
              "    <tr>\n",
              "      <th>b0c06255.wav</th>\n",
              "      <td>Clarinet</td>\n",
              "      <td>4.08</td>\n",
              "    </tr>\n",
              "    <tr>\n",
              "      <th>71c6451f.wav</th>\n",
              "      <td>Clarinet</td>\n",
              "      <td>3.56</td>\n",
              "    </tr>\n",
              "    <tr>\n",
              "      <th>5de123c3.wav</th>\n",
              "      <td>Clarinet</td>\n",
              "      <td>3.34</td>\n",
              "    </tr>\n",
              "  </tbody>\n",
              "</table>\n",
              "<p>300 rows × 2 columns</p>\n",
              "</div>"
            ],
            "text/plain": [
              "                  label  length\n",
              "fname                          \n",
              "5388d14d.wav  Saxophone    4.14\n",
              "c685f05f.wav  Saxophone    1.54\n",
              "36d20ab5.wav  Saxophone    4.90\n",
              "d6665734.wav  Saxophone   10.50\n",
              "7352e28f.wav  Saxophone    6.24\n",
              "8fa096bf.wav  Saxophone    3.70\n",
              "2f9c5f62.wav  Saxophone    5.00\n",
              "9cd05a2b.wav  Saxophone   15.22\n",
              "ab465bf9.wav  Saxophone   15.40\n",
              "c40632d7.wav  Saxophone   11.30\n",
              "3a80061f.wav  Saxophone    8.12\n",
              "dba6817d.wav  Saxophone    4.34\n",
              "25f26095.wav  Saxophone    2.04\n",
              "37cebbd4.wav  Saxophone    6.16\n",
              "f8d96888.wav  Saxophone    7.60\n",
              "d94c94f0.wav  Saxophone    3.74\n",
              "ec6afeb6.wav  Saxophone   11.88\n",
              "5f0dc8e4.wav  Saxophone    5.00\n",
              "b8c0a88a.wav  Saxophone    5.08\n",
              "96dad435.wav  Saxophone   10.02\n",
              "b120dc90.wav  Saxophone    3.74\n",
              "c1948f24.wav  Saxophone    8.28\n",
              "ac097834.wav  Saxophone    2.82\n",
              "4345851e.wav  Saxophone   11.24\n",
              "5d4f8187.wav  Saxophone    5.38\n",
              "b83049f4.wav  Saxophone    6.66\n",
              "c1c3c8b9.wav  Saxophone   13.58\n",
              "78a86075.wav  Saxophone    5.90\n",
              "f0d315bc.wav  Saxophone    4.42\n",
              "9c0838c1.wav  Saxophone    9.78\n",
              "...                 ...     ...\n",
              "a64a3740.wav   Clarinet    6.70\n",
              "ad7ec8cb.wav   Clarinet    9.70\n",
              "8ee44fb5.wav   Clarinet    3.94\n",
              "7eb959ec.wav   Clarinet    8.52\n",
              "e51e1770.wav   Clarinet    5.40\n",
              "3f7e6da8.wav   Clarinet    5.84\n",
              "3cbe9902.wav   Clarinet    7.00\n",
              "9a722e53.wav   Clarinet   10.50\n",
              "19105b8a.wav   Clarinet    4.82\n",
              "1f81cc2b.wav   Clarinet   20.20\n",
              "44c5094c.wav   Clarinet    3.94\n",
              "5506629f.wav   Clarinet    2.48\n",
              "ddf23920.wav   Clarinet    5.54\n",
              "2e1cd085.wav   Clarinet    5.76\n",
              "dc981a38.wav   Clarinet    6.82\n",
              "a053797b.wav   Clarinet    5.46\n",
              "f2310f0d.wav   Clarinet   12.50\n",
              "ce65d6b5.wav   Clarinet    3.04\n",
              "45de3233.wav   Clarinet    6.00\n",
              "8916ffcd.wav   Clarinet    4.60\n",
              "e43f7db2.wav   Clarinet    7.88\n",
              "3c66098d.wav   Clarinet    5.38\n",
              "ad42e493.wav   Clarinet    5.86\n",
              "740e5bb7.wav   Clarinet   11.10\n",
              "800b401e.wav   Clarinet    7.58\n",
              "3c713bcf.wav   Clarinet    6.14\n",
              "2fc00271.wav   Clarinet    4.20\n",
              "b0c06255.wav   Clarinet    4.08\n",
              "71c6451f.wav   Clarinet    3.56\n",
              "5de123c3.wav   Clarinet    3.34\n",
              "\n",
              "[300 rows x 2 columns]"
            ]
          },
          "metadata": {
            "tags": []
          },
          "execution_count": 14
        }
      ]
    },
    {
      "metadata": {
        "id": "lbXq4PpeEBJS",
        "colab_type": "code",
        "colab": {}
      },
      "cell_type": "code",
      "source": [
        "classes = list(np.unique(df.label))\n",
        "class_dist = df.groupby(['label'])['length'].mean()"
      ],
      "execution_count": 0,
      "outputs": []
    },
    {
      "metadata": {
        "id": "L98JA3tTEfnf",
        "colab_type": "code",
        "colab": {
          "base_uri": "https://localhost:8080/",
          "height": 228
        },
        "outputId": "f81e1418-5c36-41dc-fca1-d5f5b56b0372"
      },
      "cell_type": "code",
      "source": [
        "class_dist"
      ],
      "execution_count": 16,
      "outputs": [
        {
          "output_type": "execute_result",
          "data": {
            "text/plain": [
              "label\n",
              "Acoustic_guitar     6.948667\n",
              "Bass_drum           1.937333\n",
              "Cello               5.000667\n",
              "Clarinet            6.596000\n",
              "Double_bass         3.206000\n",
              "Flute               8.054667\n",
              "Hi-hat              3.357333\n",
              "Saxophone           7.124000\n",
              "Snare_drum          3.987333\n",
              "Violin_or_fiddle    4.530000\n",
              "Name: length, dtype: float64"
            ]
          },
          "metadata": {
            "tags": []
          },
          "execution_count": 16
        }
      ]
    },
    {
      "metadata": {
        "id": "p2uLBEtlEhmh",
        "colab_type": "code",
        "colab": {
          "base_uri": "https://localhost:8080/",
          "height": 369
        },
        "outputId": "565fab71-5789-41ab-be17-85f9724db195"
      },
      "cell_type": "code",
      "source": [
        "fig, ax = plt.subplots()\n",
        "ax.set_title('Class Distribution', y=1.08)\n",
        "ax.pie(class_dist, labels=class_dist.index, autopct='%1.1f%%',shadow=False, startangle=90)\n",
        "ax.axis('equal')\n",
        "plt.show()\n",
        "df.reset_index(inplace=True)\n"
      ],
      "execution_count": 17,
      "outputs": [
        {
          "output_type": "display_data",
          "data": {
            "image/png": "[encoded data removed]",
            "text/plain": [
              "<Figure size 576x396 with 1 Axes>"
            ]
          },
          "metadata": {
            "tags": []
          }
        }
      ]
    },
    {
      "metadata": {
        "id": "qRNYYf0qPVHO",
        "colab_type": "code",
        "colab": {
          "base_uri": "https://localhost:8080/",
          "height": 52
        },
        "outputId": "3d8b2fed-afca-429a-9d5a-de7cb5aff683"
      },
      "cell_type": "code",
      "source": [
        "ls"
      ],
      "execution_count": 18,
      "outputs": [
        {
          "output_type": "stream",
          "text": [
            "eda.py           LICENSE   README.md         \u001b[0m\u001b[01;34mwavfile0\u001b[0m/\n",
            "instruments.csv  model.py  requirements.txt\n"
          ],
          "name": "stdout"
        }
      ]
    },
    {
      "metadata": {
        "id": "ZpQhX0UUPibY",
        "colab_type": "code",
        "colab": {
          "base_uri": "https://localhost:8080/",
          "height": 34
        },
        "outputId": "a69a4e95-e335-4175-f783-aa03257e4148"
      },
      "cell_type": "code",
      "source": [
        "pwd"
      ],
      "execution_count": 19,
      "outputs": [
        {
          "output_type": "execute_result",
          "data": {
            "text/plain": [
              "'/content/audioproj2'"
            ]
          },
          "metadata": {
            "tags": []
          },
          "execution_count": 19
        }
      ]
    },
    {
      "metadata": {
        "id": "emhn0g0lQBqo",
        "colab_type": "code",
        "colab": {}
      },
      "cell_type": "code",
      "source": [
        "mkdir samples"
      ],
      "execution_count": 0,
      "outputs": []
    },
    {
      "metadata": {
        "id": "vjkAPeVNQE1j",
        "colab_type": "code",
        "colab": {}
      },
      "cell_type": "code",
      "source": [
        "mkdir clean"
      ],
      "execution_count": 0,
      "outputs": []
    },
    {
      "metadata": {
        "id": "Z9PdVqveQHFh",
        "colab_type": "code",
        "colab": {
          "base_uri": "https://localhost:8080/",
          "height": 52
        },
        "outputId": "b1c307b4-8ccb-4990-e641-1198e3ed8f7b"
      },
      "cell_type": "code",
      "source": [
        "ls"
      ],
      "execution_count": 22,
      "outputs": [
        {
          "output_type": "stream",
          "text": [
            "\u001b[0m\u001b[01;34mclean\u001b[0m/  instruments.csv  model.py   requirements.txt  \u001b[01;34mwavfile0\u001b[0m/\n",
            "eda.py  LICENSE          README.md  \u001b[01;34msamples\u001b[0m/\n"
          ],
          "name": "stdout"
        }
      ]
    },
    {
      "metadata": {
        "id": "3AYOt0_9QIrc",
        "colab_type": "code",
        "colab": {
          "base_uri": "https://localhost:8080/",
          "height": 1219
        },
        "outputId": "a0dbd15b-a329-4d58-dd59-0604b80bb914"
      },
      "cell_type": "code",
      "source": [
        "signals = {}\n",
        "fft = {}\n",
        "fbank = {}\n",
        "mfccs = {}\n",
        "\n",
        "import librosa\n",
        "for c in classes:\n",
        "  wav_file = df[df.label == c].iloc[0,0]\n",
        "  signal, rate = librosa.load('wavfile0/'+wav_file, sr=44100)\n",
        "  mask = envelope(signal, rate, 0.0005)\n",
        "  signal = signal[mask]\n",
        "  signals[c] = signal\n",
        "  fft[c] = calc_fft(signal, rate)\n",
        "  \n",
        "  bank = logfbank(signal[:rate], rate, nfilt=26, nfft=1103).T\n",
        "  fbank[c] = bank\n",
        "  mel = mfcc(signal[:rate], rate, numcep = 13, nfilt=26, nfft=1103).T\n",
        "  mfccs[c] = mel\n",
        "  \n",
        "plot_signals(signals)\n",
        "plt.show()\n",
        "\n",
        "plot_fft(fft)\n",
        "plt.show()\n",
        "\n",
        "plot_fbank(fbank)\n",
        "plt.show()\n",
        "\n",
        "plot_mfccs(mfccs)\n",
        "plt.show()\n"
      ],
      "execution_count": 23,
      "outputs": [
        {
          "output_type": "display_data",
          "data": {
            "image/png": "[encoded data removed]",
            "text/plain": [
              "<Figure size 1440x360 with 10 Axes>"
            ]
          },
          "metadata": {
            "tags": []
          }
        },
        {
          "output_type": "display_data",
          "data": {
            "image/png": "[encoded data removed]",
            "text/plain": [
              "<Figure size 1440x360 with 10 Axes>"
            ]
          },
          "metadata": {
            "tags": []
          }
        },
        {
          "output_type": "display_data",
          "data": {
            "image/png": "[encoded data removed]",
            "text/plain": [
              "<Figure size 1440x360 with 10 Axes>"
            ]
          },
          "metadata": {
            "tags": []
          }
        },
        {
          "output_type": "display_data",
          "data": {
            "image/png": "[encoded data removed]",
            "text/plain": [
              "<Figure size 1440x360 with 10 Axes>"
            ]
          },
          "metadata": {
            "tags": []
          }
        }
      ]
    },
    {
      "metadata": {
        "id": "izyaxWCjWvJo",
        "colab_type": "code",
        "colab": {
          "base_uri": "https://localhost:8080/",
          "height": 34
        },
        "outputId": "57d45a47-998c-4e93-97d2-1a16ae3bb0c0"
      },
      "cell_type": "code",
      "source": [
        "if len(os.listdir('clean')) == 0:\n",
        "  for f in tqdm(df.fname):\n",
        "    signal, rate = librosa.load('wavfile0/'+f, sr=16000)\n",
        "    mask = envelope(signal, rate, 0.0005)\n",
        "    wavfile.write(filename='clean/'+f, rate=rate, data=signal[mask])\n"
      ],
      "execution_count": 24,
      "outputs": [
        {
          "output_type": "stream",
          "text": [
            "100%|██████████| 300/300 [01:19<00:00,  4.27it/s]\n"
          ],
          "name": "stderr"
        }
      ]
    },
    {
      "metadata": {
        "id": "uF7eKWg4sCGp",
        "colab_type": "code",
        "colab": {
          "base_uri": "https://localhost:8080/",
          "height": 34
        },
        "outputId": "4f2c471f-56fc-4da1-a85d-6ee7c88d848b"
      },
      "cell_type": "code",
      "source": [
        "pwd"
      ],
      "execution_count": 25,
      "outputs": [
        {
          "output_type": "execute_result",
          "data": {
            "text/plain": [
              "'/content/audioproj2'"
            ]
          },
          "metadata": {
            "tags": []
          },
          "execution_count": 25
        }
      ]
    },
    {
      "metadata": {
        "id": "4M9jLLfNslAY",
        "colab_type": "code",
        "colab": {
          "base_uri": "https://localhost:8080/",
          "height": 52
        },
        "outputId": "62b99c84-6290-488c-d06a-809c90afd866"
      },
      "cell_type": "code",
      "source": [
        "ls\n"
      ],
      "execution_count": 26,
      "outputs": [
        {
          "output_type": "stream",
          "text": [
            "\u001b[0m\u001b[01;34mclean\u001b[0m/  instruments.csv  model.py   requirements.txt  \u001b[01;34mwavfile0\u001b[0m/\n",
            "eda.py  LICENSE          README.md  \u001b[01;34msamples\u001b[0m/\n"
          ],
          "name": "stdout"
        }
      ]
    },
    {
      "metadata": {
        "id": "Ja9Z02esssy5",
        "colab_type": "code",
        "colab": {
          "base_uri": "https://localhost:8080/",
          "height": 34
        },
        "outputId": "e19b380b-fbd9-4218-b299-da5218d11cfe"
      },
      "cell_type": "code",
      "source": [
        "cd clean"
      ],
      "execution_count": 27,
      "outputs": [
        {
          "output_type": "stream",
          "text": [
            "/content/audioproj2/clean\n"
          ],
          "name": "stdout"
        }
      ]
    },
    {
      "metadata": {
        "id": "OBKAe6uBs2bz",
        "colab_type": "code",
        "colab": {
          "base_uri": "https://localhost:8080/",
          "height": 1073
        },
        "outputId": "365a4ff9-4bbb-4c75-ae44-1fbc2557a7ce"
      },
      "cell_type": "code",
      "source": [
        "ls"
      ],
      "execution_count": 28,
      "outputs": [
        {
          "output_type": "stream",
          "text": [
            "00353774.wav  367ad7b1.wav  673defaf.wav  9f6eac9c.wav  cbc8d551.wav\n",
            "0091fc7f.wav  36d06cc0.wav  68589f79.wav  9f84ea5a.wav  cdc5fe8e.wav\n",
            "01c2f88b.wav  36d20ab5.wav  6a037ddf.wav  a053797b.wav  cdeece57.wav\n",
            "0286fc27.wav  3707da71.wav  6a210ffa.wav  a090c45a.wav  cdfc8967.wav\n",
            "0356dec7.wav  37cebbd4.wav  6a96272b.wav  a0cbe92e.wav  ce3f3400.wav\n",
            "03fc1f96.wav  38216fad.wav  6b27a847.wav  a1b369d7.wav  ce65d6b5.wav\n",
            "06c48eab.wav  3a3d0279.wav  6d21ad67.wav  a25423a8.wav  ce75b5ce.wav\n",
            "078f7ac0.wav  3a80061f.wav  6eb59008.wav  a59b5a08.wav  cfb9c5fd.wav\n",
            "07db7f16.wav  3a9085ca.wav  6ef82473.wav  a64a3740.wav  d14f5df1.wav\n",
            "09a1cfd7.wav  3aafb6ad.wav  6efbaf90.wav  a6728901.wav  d328db67.wav\n",
            "0c67f402.wav  3c66098d.wav  6fca680b.wav  a7964699.wav  d6144e01.wav\n",
            "0ddb4bdf.wav  3c713bcf.wav  70ca9c77.wav  aa9ae956.wav  d6665734.wav\n",
            "0e7cd4eb.wav  3cbe9902.wav  71c6451f.wav  aab28420.wav  d6854eb4.wav\n",
            "0ed06544.wav  3d3439f1.wav  7352e28f.wav  ab465bf9.wav  d84c8c43.wav\n",
            "0eeaebcb.wav  3e2bddda.wav  73677128.wav  ab8e8ae3.wav  d8a257e5.wav\n",
            "103f29e5.wav  3eaddda8.wav  740e5bb7.wav  ac097834.wav  d914225a.wav\n",
            "10da16fb.wav  3f7e6da8.wav  743ae0f9.wav  ad42e493.wav  d94c94f0.wav\n",
            "1148986e.wav  41897c32.wav  7506dcc4.wav  ad7ec8cb.wav  da3f8050.wav\n",
            "125e6ccf.wav  4345851e.wav  78a86075.wav  ae7d1c37.wav  da4b0379.wav\n",
            "13da16ae.wav  444f9db5.wav  7b6a119e.wav  aed9d22f.wav  da8ea649.wav\n",
            "160c92d7.wav  44c5094c.wav  7d11b3b4.wav  af227d6f.wav  dba6817d.wav\n",
            "16c9a838.wav  44fb3eeb.wav  7d896090.wav  b0c06255.wav  dc5be9d7.wav\n",
            "17f82c05.wav  45de3233.wav  7dda9dc2.wav  b0d9849d.wav  dc6676ff.wav\n",
            "18865530.wav  462b676f.wav  7eb959ec.wav  b120dc90.wav  dc981a38.wav\n",
            "19105b8a.wav  468f9c4c.wav  7eb9dac0.wav  b218444c.wav  ddf23920.wav\n",
            "195f544d.wav  46b52f97.wav  800b401e.wav  b2261238.wav  deb87700.wav\n",
            "19893aa8.wav  493c247b.wav  8073923c.wav  b31ed1fb.wav  e0ecd1a6.wav\n",
            "1a7d3f2d.wav  4ba2b70e.wav  809ea09e.wav  b38409bb.wav  e2d993ec.wav\n",
            "1b24c166.wav  4bcc8a77.wav  811bf309.wav  b428466c.wav  e3f479f3.wav\n",
            "1b93aeba.wav  4bff8f32.wav  81d9f077.wav  b4b2b68d.wav  e43f7db2.wav\n",
            "1bc8eae1.wav  4c4d4797.wav  82d4fb44.wav  b68f10af.wav  e4958adc.wav\n",
            "1c9a423f.wav  4c590f69.wav  848faca3.wav  b6cbc6a9.wav  e51e1770.wav\n",
            "1e3391d5.wav  4fb480bf.wav  84f5b84b.wav  b73c3595.wav  e55c5160.wav\n",
            "1f81cc2b.wav  4fd883bb.wav  85d6a7d2.wav  b83049f4.wav  e6597186.wav\n",
            "2016d256.wav  52300f9b.wav  88500b88.wav  b86b5a96.wav  e70c41d4.wav\n",
            "2032be87.wav  52e54bdd.wav  88780eac.wav  b88322f6.wav  e897db78.wav\n",
            "21346775.wav  5388d14d.wav  8916ffcd.wav  b8c0a88a.wav  e8e00924.wav\n",
            "229be2be.wav  5506629f.wav  8986cced.wav  ba648ac1.wav  e92bf0fa.wav\n",
            "22bea889.wav  55822aae.wav  8b6a16de.wav  bab98261.wav  e97d9707.wav\n",
            "22e1c02c.wav  55d52a69.wav  8cd809d3.wav  bb1f5874.wav  ec6afeb6.wav\n",
            "236cbab1.wav  562d93f5.wav  8ce2e863.wav  bea51ca5.wav  f042282c.wav\n",
            "238b16a5.wav  565f3ee2.wav  8d7d7dba.wav  c0ddf010.wav  f0727eac.wav\n",
            "2424ad60.wav  5689818f.wav  8da75280.wav  c11bacda.wav  f0d315bc.wav\n",
            "2503aaa1.wav  56e79c6f.wav  8ee44fb5.wav  c153f347.wav  f0dfe343.wav\n",
            "25f26095.wav  595c191d.wav  8fa096bf.wav  c1948f24.wav  f1754aea.wav\n",
            "2ac8b94f.wav  5c33d972.wav  921eee9d.wav  c1c3c8b9.wav  f2310f0d.wav\n",
            "2cc8683d.wav  5ce40b1b.wav  9320c55f.wav  c40632d7.wav  f26131d8.wav\n",
            "2da9e12a.wav  5d040c3b.wav  95e1d0ae.wav  c53a217e.wav  f5e20dce.wav\n",
            "2e1cd085.wav  5d4f8187.wav  96dad435.wav  c683f28f.wav  f63f3703.wav\n",
            "2e4a9850.wav  5d73ee6f.wav  9923ddf8.wav  c685f05f.wav  f8a99b37.wav\n",
            "2f9c5f62.wav  5de123c3.wav  99c96a07.wav  c6865306.wav  f8d96888.wav\n",
            "2fc00271.wav  5e5bca7a.wav  9a4bfb69.wav  c7846d27.wav  f9653de8.wav\n",
            "31db8c5e.wav  5eadbc6d.wav  9a722e53.wav  c840804f.wav  fa32109e.wav\n",
            "31dbc5c0.wav  5ec7ad26.wav  9adffd44.wav  c8c117dc.wav  fa4d4a92.wav\n",
            "32dee61b.wav  5f0dc8e4.wav  9c0838c1.wav  c8ecbbfd.wav  fc55d588.wav\n",
            "34747922.wav  612702c3.wav  9cd05a2b.wav  c9fb642d.wav  fcfafbc8.wav\n",
            "34a90030.wav  61c914b1.wav  9d308738.wav  ca348cbb.wav  fe76c972.wav\n",
            "34e4d187.wav  63e0ab2c.wav  9dd0141c.wav  ca3f3698.wav  fec00143.wav\n",
            "35039ae1.wav  642aba58.wav  9e3bc1b6.wav  ca8653d2.wav  ff11628d.wav\n",
            "35e97db3.wav  642ad7e4.wav  9f522cda.wav  cae0d841.wav  ff3f21e7.wav\n"
          ],
          "name": "stdout"
        }
      ]
    },
    {
      "metadata": {
        "id": "TcbBY1gqs3gp",
        "colab_type": "code",
        "colab": {
          "base_uri": "https://localhost:8080/",
          "height": 34
        },
        "outputId": "1745d55f-fcb3-41bd-cea2-38e42c4f2ec0"
      },
      "cell_type": "code",
      "source": [
        "pwd"
      ],
      "execution_count": 29,
      "outputs": [
        {
          "output_type": "execute_result",
          "data": {
            "text/plain": [
              "'/content/audioproj2/clean'"
            ]
          },
          "metadata": {
            "tags": []
          },
          "execution_count": 29
        }
      ]
    },
    {
      "metadata": {
        "id": "fUzHK8CDtBrv",
        "colab_type": "code",
        "colab": {
          "base_uri": "https://localhost:8080/",
          "height": 34
        },
        "outputId": "d162d4e9-4bc3-4326-c33b-56da2f22d394"
      },
      "cell_type": "code",
      "source": [
        "cd .."
      ],
      "execution_count": 30,
      "outputs": [
        {
          "output_type": "stream",
          "text": [
            "/content/audioproj2\n"
          ],
          "name": "stdout"
        }
      ]
    },
    {
      "metadata": {
        "id": "gNQDcL5KtCuj",
        "colab_type": "code",
        "colab": {
          "base_uri": "https://localhost:8080/",
          "height": 34
        },
        "outputId": "db597f4c-f34f-4c8b-abd1-b1a2e264fef8"
      },
      "cell_type": "code",
      "source": [
        "cd .."
      ],
      "execution_count": 31,
      "outputs": [
        {
          "output_type": "stream",
          "text": [
            "/content\n"
          ],
          "name": "stdout"
        }
      ]
    },
    {
      "metadata": {
        "id": "RmgDuiX9tEaa",
        "colab_type": "code",
        "colab": {
          "base_uri": "https://localhost:8080/",
          "height": 34
        },
        "outputId": "94332111-5d02-4a55-c795-719371572a43"
      },
      "cell_type": "code",
      "source": [
        "ls"
      ],
      "execution_count": 32,
      "outputs": [
        {
          "output_type": "stream",
          "text": [
            "\u001b[0m\u001b[01;34maudioproj2\u001b[0m/  \u001b[01;34msample_data\u001b[0m/\n"
          ],
          "name": "stdout"
        }
      ]
    },
    {
      "metadata": {
        "id": "flp45OOQtFDp",
        "colab_type": "code",
        "colab": {
          "base_uri": "https://localhost:8080/",
          "height": 34
        },
        "outputId": "93cc3fe1-e976-42bc-f0be-7111e9450f59"
      },
      "cell_type": "code",
      "source": [
        "cd audioproj2"
      ],
      "execution_count": 33,
      "outputs": [
        {
          "output_type": "stream",
          "text": [
            "/content/audioproj2\n"
          ],
          "name": "stdout"
        }
      ]
    },
    {
      "metadata": {
        "id": "LL7s4Ze3tIve",
        "colab_type": "code",
        "colab": {
          "base_uri": "https://localhost:8080/",
          "height": 52
        },
        "outputId": "d1a6bb47-7a32-4a25-baea-df0e8a8401aa"
      },
      "cell_type": "code",
      "source": [
        "ls"
      ],
      "execution_count": 34,
      "outputs": [
        {
          "output_type": "stream",
          "text": [
            "\u001b[0m\u001b[01;34mclean\u001b[0m/  instruments.csv  model.py   requirements.txt  \u001b[01;34mwavfile0\u001b[0m/\n",
            "eda.py  LICENSE          README.md  \u001b[01;34msamples\u001b[0m/\n"
          ],
          "name": "stdout"
        }
      ]
    },
    {
      "metadata": {
        "id": "9auJNI33tJUu",
        "colab_type": "code",
        "colab": {
          "base_uri": "https://localhost:8080/",
          "height": 34
        },
        "outputId": "94e60d2e-abb5-4114-fe7f-4234f4cb7742"
      },
      "cell_type": "code",
      "source": [
        "pwd"
      ],
      "execution_count": 35,
      "outputs": [
        {
          "output_type": "execute_result",
          "data": {
            "text/plain": [
              "'/content/audioproj2'"
            ]
          },
          "metadata": {
            "tags": []
          },
          "execution_count": 35
        }
      ]
    },
    {
      "metadata": {
        "id": "7E2yhGx5toPA",
        "colab_type": "code",
        "colab": {
          "base_uri": "https://localhost:8080/",
          "height": 1304
        },
        "outputId": "f5bab729-c40a-48f3-cf6b-5846adc520e5"
      },
      "cell_type": "code",
      "source": [
        "import os\n",
        "from scipy.io import wavfile\n",
        "import pandas as pd\n",
        "import matplotlib.pyplot as plt\n",
        "import numpy as np\n",
        "from keras.layers import Conv2D, MaxPool2D, Flatten, LSTM\n",
        "from keras.layers import Dropout, Dense, TimeDistributed\n",
        "from keras.models import Sequential\n",
        "from keras.utils import to_categorical\n",
        "from sklearn.utils.class_weight import compute_class_weight\n",
        "from tqdm import tqdm\n",
        "from python_speech_features import mfcc\n",
        "\n",
        "def build_rand_feat():\n",
        "  X = []\n",
        "  y = []\n",
        "  _min, _max = float('inf'), -float('inf')\n",
        "  for _ in tqdm(range(n_samples)):\n",
        "    rand_class = np.random.choice(class_dist.index, p=prob_dist)\n",
        "    file = np.random.choice(df[df.label==rand_class].index)\n",
        "    rate, wav = wavfile.read('clean/'+file)\n",
        "    label = df.at[file, 'label']\n",
        "    rand_index = np.random.randint(0, wav.shape[0]-config.step)\n",
        "    sample = wav[rand_index:rand_index+config.step]\n",
        "    X_sample = mfcc(sample, rate, \n",
        "                   numcep=config.nfeat, nfilt=config.nfilt, nfft=config.nfft).T\n",
        "    _min = min(np.amin(X_sample), _min)\n",
        "    _max = max(np.amax(X_sample), _max)\n",
        "    X.append(X_sample if config.mode == 'conv' else X_sample.T)\n",
        "    y.append(classes.index(label))\n",
        "  X, y = np.array(X), np.array(y)\n",
        "  X = (X - _min)/(_max - _min)\n",
        "  if config.mode == 'conv':\n",
        "    X = X.reshape(X.shape[0], X.shape[1], X.shape[2], 1)\n",
        "  elif config.mode == 'time':\n",
        "    X = X.reshape(X.shape[0], X.shape[1], X.shape[2])\n",
        "    \n",
        "  y = to_categorical(y, num_classes=10)\n",
        "  \n",
        "  return X, y   \n",
        "\n",
        "def get_conv_model():\n",
        "  model = Sequential()\n",
        "  model.add(Conv2D(16, (3,3), activation='relu', strides=(1,1), \n",
        "                   padding='same', input_shape = input_shape))\n",
        "  model.add(Conv2D(32, (3,3), activation='relu', strides=(1,1),\n",
        "                   padding='same'))\n",
        "  model.add(Conv2D(64, (3,3), activation='relu', strides=(1,1),\n",
        "                   padding='same'))\n",
        "  model.add(Conv2D(128,(3,3), activation='relu', strides=(1,1),\n",
        "                   padding='same'))\n",
        "  \n",
        "  model.add(MaxPool2D((2,2)))\n",
        "  model.add(Dropout(0.5))\n",
        "  model.add(Flatten())\n",
        "  model.add(Dense(128, activation='relu'))\n",
        "  model.add(Dense(64, activation='relu'))\n",
        "  model.add(Dense(10, activation='softmax'))\n",
        "  model.summary()\n",
        "  model.compile(loss='categorical_crossentropy',\n",
        "               optimizer = 'adam',\n",
        "               metrics = ['acc'])\n",
        "  return model\n",
        "  \n",
        "  \n",
        "\n",
        "class Config:\n",
        "  def __init__(self, mode='conv', nfilt=26, nfeat=13, nfft=512, rate=16000):\n",
        "    self.mode = mode\n",
        "    self.nfilt = nfilt\n",
        "    self.nfeat = nfeat\n",
        "    self.nfft = nfft\n",
        "    self.rate= rate\n",
        "    self.step = int(rate/10)\n",
        "\n",
        "df = pd.read_csv('instruments.csv')\n",
        "df.set_index('fname', inplace=True)\n",
        "\n",
        "for f in df.index:\n",
        "    rate, signal = wavfile.read('clean/'+f)\n",
        "    df.at[f, 'length'] = signal.shape[0]/rate\n",
        "\n",
        "classes = list(np.unique(df.label))\n",
        "class_dist = df.groupby(['label'])['length'].mean()\n",
        "\n",
        "n_samples = 2 * int (df['length'].sum()/0.1)\n",
        "prob_dist = class_dist/class_dist.sum()\n",
        "choices = np.random.choice(class_dist.index, p=prob_dist)\n",
        "\n",
        "\n",
        "\n",
        "fig, ax = plt.subplots()\n",
        "ax.set_title('Class Distribution', y=1.08)\n",
        "ax.pie(class_dist, labels=class_dist.index, autopct='%1.1f%%',\n",
        "       shadow=False, startangle=90)\n",
        "ax.axis('equal')\n",
        "plt.show()\n",
        "\n",
        "config = Config(mode='conv')\n",
        "\n",
        "if config.mode == 'conv':\n",
        "  X, y = build_rand_feat()\n",
        "  y_flat = np.argmax(y, axis=1)\n",
        "  input_shape = (X.shape[1], X.shape[2], 1)\n",
        "  model = get_conv_model()\n",
        "  \n",
        "  \n",
        "  \n",
        "elif config.mode == 'time':\n",
        "  X, y = build_rand_feat()\n",
        "  y_flat = np.argmax(y, axis=1)\n",
        "  input_shape = (X.shape[1], X.shape[2])\n",
        "  model = get_recurrent_model()\n",
        "  \n",
        "class_weight = compute_class_weight('balanced', np.unique(y_flat), y_flat)\n",
        "\n",
        "model.fit(X, y, epochs=10, batch_size=32,\n",
        "         shuffle=True,\n",
        "         class_weight = class_weight)\n",
        "\n",
        "\n"
      ],
      "execution_count": 42,
      "outputs": [
        {
          "output_type": "display_data",
          "data": {
            "image/png": "[encoded data removed]",
            "text/plain": [
              "<Figure size 576x396 with 1 Axes>"
            ]
          },
          "metadata": {
            "tags": []
          }
        },
        {
          "output_type": "stream",
          "text": [
            "100%|██████████| 26410/26410 [00:57<00:00, 458.29it/s]\n"
          ],
          "name": "stderr"
        },
        {
          "output_type": "stream",
          "text": [
            "_________________________________________________________________\n",
            "Layer (type)                 Output Shape              Param #   \n",
            "=================================================================\n",
            "conv2d_9 (Conv2D)            (None, 13, 9, 16)         160       \n",
            "_________________________________________________________________\n",
            "conv2d_10 (Conv2D)           (None, 13, 9, 32)         4640      \n",
            "_________________________________________________________________\n",
            "conv2d_11 (Conv2D)           (None, 13, 9, 64)         18496     \n",
            "_________________________________________________________________\n",
            "conv2d_12 (Conv2D)           (None, 13, 9, 128)        73856     \n",
            "_________________________________________________________________\n",
            "max_pooling2d_3 (MaxPooling2 (None, 6, 4, 128)         0         \n",
            "_________________________________________________________________\n",
            "dropout_2 (Dropout)          (None, 6, 4, 128)         0         \n",
            "_________________________________________________________________\n",
            "flatten_2 (Flatten)          (None, 3072)              0         \n",
            "_________________________________________________________________\n",
            "dense_4 (Dense)              (None, 128)               393344    \n",
            "_________________________________________________________________\n",
            "dense_5 (Dense)              (None, 64)                8256      \n",
            "_________________________________________________________________\n",
            "dense_6 (Dense)              (None, 10)                650       \n",
            "=================================================================\n",
            "Total params: 499,402\n",
            "Trainable params: 499,402\n",
            "Non-trainable params: 0\n",
            "_________________________________________________________________\n",
            "WARNING:tensorflow:From /usr/local/lib/python3.6/dist-packages/tensorflow/python/ops/math_ops.py:3066: to_int32 (from tensorflow.python.ops.math_ops) is deprecated and will be removed in a future version.\n",
            "Instructions for updating:\n",
            "Use tf.cast instead.\n",
            "Epoch 1/10\n",
            "26410/26410 [==============================] - 15s 587us/step - loss: 1.0006 - acc: 0.6449\n",
            "Epoch 2/10\n",
            "26410/26410 [==============================] - 10s 393us/step - loss: 0.4638 - acc: 0.8385\n",
            "Epoch 3/10\n",
            "26410/26410 [==============================] - 10s 394us/step - loss: 0.3327 - acc: 0.8855\n",
            "Epoch 4/10\n",
            "26410/26410 [==============================] - 10s 394us/step - loss: 0.2607 - acc: 0.9106\n",
            "Epoch 5/10\n",
            "26410/26410 [==============================] - 10s 394us/step - loss: 0.2168 - acc: 0.9231\n",
            "Epoch 6/10\n",
            "26410/26410 [==============================] - 10s 393us/step - loss: 0.1916 - acc: 0.9319\n",
            "Epoch 7/10\n",
            "26410/26410 [==============================] - 10s 391us/step - loss: 0.1690 - acc: 0.9409\n",
            "Epoch 8/10\n",
            "26410/26410 [==============================] - 10s 385us/step - loss: 0.1524 - acc: 0.9480\n",
            "Epoch 9/10\n",
            "26410/26410 [==============================] - 10s 393us/step - loss: 0.1380 - acc: 0.9517\n",
            "Epoch 10/10\n",
            "26410/26410 [==============================] - 10s 391us/step - loss: 0.1261 - acc: 0.9549\n"
          ],
          "name": "stdout"
        },
        {
          "output_type": "execute_result",
          "data": {
            "text/plain": [
              "<keras.callbacks.History at 0x7f87398416a0>"
            ]
          },
          "metadata": {
            "tags": []
          },
          "execution_count": 42
        }
      ]
    },
    {
      "metadata": {
        "id": "O48gS4NlApFw",
        "colab_type": "code",
        "colab": {}
      },
      "cell_type": "code",
      "source": [
        ""
      ],
      "execution_count": 0,
      "outputs": []
    }
  ]
}